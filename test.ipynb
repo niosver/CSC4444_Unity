{
 "cells": [
  {
   "cell_type": "code",
   "execution_count": 118,
   "metadata": {},
   "outputs": [],
   "source": [
    "import mlagents\n",
    "import random\n",
    "import numpy as np\n",
    "from mlagents_envs.environment import UnityEnvironment as UE"
   ]
  },
  {
   "cell_type": "code",
   "execution_count": 119,
   "metadata": {},
   "outputs": [],
   "source": [
    "env = UE(file_name=\"4444_project\",seed=1,side_channels=[])\n",
    "env.reset()"
   ]
  },
  {
   "cell_type": "code",
   "execution_count": 120,
   "metadata": {},
   "outputs": [
    {
     "name": "stdout",
     "output_type": "stream",
     "text": [
      "['CarBehavior?team=0']\n",
      "CarBehavior?team=0\n"
     ]
    }
   ],
   "source": [
    "print(list(env.behavior_specs))\n",
    "behavior_name = list(env.behavior_specs)[0]\n",
    "print(behavior_name)"
   ]
  },
  {
   "cell_type": "code",
   "execution_count": 121,
   "metadata": {},
   "outputs": [
    {
     "name": "stdout",
     "output_type": "stream",
     "text": [
      "<class 'mlagents_envs.base_env.BehaviorSpec'>\n",
      "\n",
      "BehaviorSpec(observation_specs=[ObservationSpec(shape=(8,), dimension_property=(<DimensionProperty.NONE: 1>,), observation_type=<ObservationType.DEFAULT: 0>, name='VectorSensor_size8')], action_spec=ActionSpec(continuous_size=1, discrete_branches=()))\n"
     ]
    }
   ],
   "source": [
    "print(type(env.behavior_specs[behavior_name]))\n",
    "print()\n",
    "print(env.behavior_specs[behavior_name])\n",
    "spec = env.behavior_specs[behavior_name]"
   ]
  },
  {
   "cell_type": "code",
   "execution_count": 122,
   "metadata": {},
   "outputs": [
    {
     "name": "stdout",
     "output_type": "stream",
     "text": [
      "<class 'list'>\n",
      "\n",
      "<class 'tuple'>\n",
      "ObservationSpec(shape=(8,), dimension_property=(<DimensionProperty.NONE: 1>,), observation_type=<ObservationType.DEFAULT: 0>, name='VectorSensor_size8')\n"
     ]
    }
   ],
   "source": [
    "print(type(spec.observation_specs))\n",
    "print()\n",
    "print(type(tuple(spec.observation_specs[0])))\n",
    "print(spec.observation_specs[0])"
   ]
  },
  {
   "cell_type": "code",
   "execution_count": 123,
   "metadata": {},
   "outputs": [
    {
     "name": "stdout",
     "output_type": "stream",
     "text": [
      "<class 'mlagents_envs.base_env.ActionSpec'>\n",
      "\n",
      "Continuous: 1, Discrete: ()\n"
     ]
    }
   ],
   "source": [
    "print(type(spec.action_spec))\n",
    "print()\n",
    "print(spec.action_spec)"
   ]
  },
  {
   "cell_type": "code",
   "execution_count": 124,
   "metadata": {},
   "outputs": [],
   "source": [
    "decision_steps, terminal_steps = env.get_steps(behavior_name)"
   ]
  },
  {
   "cell_type": "code",
   "execution_count": 125,
   "metadata": {},
   "outputs": [
    {
     "name": "stdout",
     "output_type": "stream",
     "text": [
      "<mlagents_envs.base_env.DecisionSteps object at 0x000001372DA05400>\n",
      "[0]\n"
     ]
    }
   ],
   "source": [
    "print(decision_steps)\n",
    "print(list(decision_steps))"
   ]
  },
  {
   "cell_type": "code",
   "execution_count": 126,
   "metadata": {},
   "outputs": [
    {
     "name": "stdout",
     "output_type": "stream",
     "text": [
      "<class 'numpy.ndarray'>\n"
     ]
    }
   ],
   "source": [
    "tracked_agent = -1\n",
    "done = False\n",
    "episode_rewards = 0\n",
    "\n",
    "print(type(decision_steps.agent_id))\n",
    "tracked_agent = decision_steps.agent_id[0]"
   ]
  },
  {
   "cell_type": "code",
   "execution_count": 127,
   "metadata": {},
   "outputs": [
    {
     "name": "stdout",
     "output_type": "stream",
     "text": [
      "<mlagents_envs.base_env.ActionTuple object at 0x000001372D9FCE50>\n",
      "<class 'numpy.ndarray'>\n",
      "[]\n"
     ]
    }
   ],
   "source": [
    "action = spec.action_spec.random_action(len(decision_steps))\n",
    "print(action)\n",
    "print(type(action.discrete))\n",
    "print(action.discrete)\n",
    "# action = action.continuous"
   ]
  },
  {
   "cell_type": "code",
   "execution_count": 128,
   "metadata": {},
   "outputs": [],
   "source": [
    "env.set_actions(behavior_name, action)"
   ]
  },
  {
   "cell_type": "code",
   "execution_count": 129,
   "metadata": {},
   "outputs": [
    {
     "name": "stdout",
     "output_type": "stream",
     "text": [
      "[array([[ 2.7046487, -1.1772   , 19.816278 , -1.       ,  8.196485 ,\n",
      "         8.033186 , 12.105111 , 10.531861 ]], dtype=float32)]\n",
      "[array([[ 3.7809849, -2.1582   , 19.639353 , -1.       ,  8.253044 ,\n",
      "         7.931584 , 11.061274 , 11.344244 ]], dtype=float32)]\n",
      "[array([[ 4.398838 , -3.1391995, 19.51026  , -1.       ,  8.121046 ,\n",
      "         7.9693165, -1.       , 11.586672 ]], dtype=float32)]\n",
      "[array([[ 2.9182909 ,  0.09942342, 19.509611  , -1.        ,  8.076248  ,\n",
      "         7.956549  , 12.189226  , 10.536428  ]], dtype=float32)]\n",
      "[array([[ 0.4744352 ,  0.04627998, 19.79955   , -1.        ,  8.317835  ,\n",
      "         7.8573413 , 14.858159  ,  9.2374325 ]], dtype=float32)]\n",
      "[array([[ 1.7930133 ,  0.12716888, 19.60971   , -1.        ,  8.397482  ,\n",
      "         7.425818  , 13.165407  , 10.32221   ]], dtype=float32)]\n",
      "[array([[ 0.8589339 ,  0.15539059, 19.731527  , -1.        ,  8.587206  ,\n",
      "         7.272814  , 15.084656  ,  9.35771   ]], dtype=float32)]\n",
      "[array([[-1.0938295 ,  0.10712487, 19.762106  , 20.417326  ,  9.066853  ,\n",
      "         7.0102963 , -1.        ,  8.289212  ]], dtype=float32)]\n",
      "[array([[-2.3135154 ,  0.09719626, 19.631998  , 16.576859  ,  9.680932  ,\n",
      "         6.5210905 , -1.        ,  7.4238243 ]], dtype=float32)]\n",
      "[array([[-3.6243980e+00,  6.5904409e-03,  1.9505547e+01,  1.2878459e+01,\n",
      "         1.0525351e+01,  6.4727802e+00, -1.0000000e+00,  6.7956629e+00]],\n",
      "      dtype=float32)]\n",
      "[array([[-6.131503  , -0.07678451, 18.7387    ,  8.795905  , 13.117378  ,\n",
      "         5.962127  , -1.        ,  5.5347466 ]], dtype=float32)]\n",
      "[array([[-7.713526  , -0.05579713, 18.336924  ,  6.3019414 , 16.781054  ,\n",
      "         4.920298  , -1.        ,  4.282412  ]], dtype=float32)]\n",
      "[array([[-5.9160166 ,  0.03085291, 18.718742  ,  5.1648226 , 16.54571   ,\n",
      "         3.644992  , -1.        ,  3.1592727 ]], dtype=float32)]\n",
      "[array([[ 0.       ,  0.       ,  0.       , -1.       ,  8.331722 ,\n",
      "         8.043173 , 11.0713005, 11.566806 ]], dtype=float32)]\n",
      "Total rewards for episode 0 is -98.59999997913837\n",
      "[array([[ 6.631456, -1.1772  , 18.868593, -1.      ,  8.223353,  8.342772,\n",
      "         9.498699, 14.290462]], dtype=float32)]\n",
      "[array([[ 9.730137, -2.1582  , 17.473536, 19.425098,  8.060921,  9.246712,\n",
      "         8.065865, 21.90796 ]], dtype=float32)]\n",
      "[array([[ 7.833958 , -0.3734238, 14.680815 , 18.73311  ,  7.3543906,\n",
      "         9.968696 ,  7.297633 , 23.11874  ]], dtype=float32)]\n",
      "[array([[11.841337  ,  0.18177827, 15.811949  , 12.891701  ,  6.781907  ,\n",
      "        11.3023615 ,  6.159937  , -1.        ]], dtype=float32)]\n",
      "[array([[12.35798  ,  0.2188907, 15.471583 ,  9.75371  ,  5.685554 ,\n",
      "        12.384972 ,  5.1294513, -1.       ]], dtype=float32)]\n",
      "[array([[11.799722  ,  0.24801691, 15.843316  ,  8.518026  ,  4.5120087 ,\n",
      "        13.6013775 ,  4.155204  , -1.        ]], dtype=float32)]\n",
      "[array([[13.179968  ,  0.25526327, 14.829642  ,  5.227877  ,  3.6463265 ,\n",
      "        16.014519  ,  3.0193484 , -1.        ]], dtype=float32)]\n",
      "[array([], shape=(0, 8), dtype=float32)]\n",
      "Total rewards for episode 1 is -99.29999998956919\n",
      "[array([[ 4.211406, -1.1772  , 19.551575, -1.      ,  8.144615,  8.088278,\n",
      "        10.926026, 11.629176]], dtype=float32)]\n",
      "[array([[ 3.057714, -2.1582  , 19.764877, -1.      ,  8.100207,  8.077583,\n",
      "        11.575431, 10.794834]], dtype=float32)]\n",
      "[array([[ 1.4083977, -3.1391995, 19.95035  , -1.       ,  8.212552 ,\n",
      "         7.963768 , 13.501897 ,  9.833106 ]], dtype=float32)]\n",
      "[array([[ 1.9108825 ,  0.06726122, 19.69173   , -1.        ,  8.368144  ,\n",
      "         7.683359  , 12.937662  ,  9.9713    ]], dtype=float32)]\n",
      "[array([[ 0.6301188 ,  0.07115668, 19.739029  , -1.        ,  8.601396  ,\n",
      "         7.529771  , 15.051474  ,  8.971402  ]], dtype=float32)]\n",
      "[array([[-0.17851432,  0.09386396, 19.732359  , -1.        , -1.        ,\n",
      "         7.178922  , 16.012905  ,  8.922392  ]], dtype=float32)]\n",
      "[array([[-0.25118083,  0.12500525, 19.759113  , 24.118961  , -1.        ,\n",
      "         6.75382   , 16.987328  ,  8.443172  ]], dtype=float32)]\n",
      "[array([[-1.606762  ,  0.06640531, 19.764868  , 18.156212  , 10.258363  ,\n",
      "         6.406294  , -1.        ,  7.479669  ]], dtype=float32)]\n",
      "[array([[-3.3636386 ,  0.07639651, 19.483604  , 13.676407  , 11.257045  ,\n",
      "         5.921792  , -1.        ,  6.466264  ]], dtype=float32)]\n",
      "[array([[-2.414029  ,  0.08943184, 19.60117   , 13.677329  , 10.949056  ,\n",
      "         5.531971  , -1.        ,  6.2913084 ]], dtype=float32)]\n",
      "[array([[-1.3563815 ,  0.04626046, 19.785322  , 12.943344  , 11.298302  ,\n",
      "         4.884184  , -1.        ,  5.6352844 ]], dtype=float32)]\n",
      "[array([[-0.02764192,  0.13401583, 19.681723  , 13.243216  , 12.057319  ,\n",
      "         4.652419  , -1.        ,  5.100763  ]], dtype=float32)]\n",
      "[array([[-1.4105724 , -0.07056536, 19.920588  ,  8.649389  , 13.693398  ,\n",
      "         4.169806  , -1.        ,  4.0799084 ]], dtype=float32)]\n",
      "[array([[-2.3955631,  0.0514521, 19.466843 ,  6.1627626, 15.142896 ,\n",
      "         3.3791785, -1.       ,  3.08649  ]], dtype=float32)]\n",
      "[array([[-0.5520333 ,  0.09564026, 19.656897  ,  5.7707887 , 15.186721  ,\n",
      "         2.2618036 , -1.        ,  2.2979963 ]], dtype=float32)]\n",
      "[array([], shape=(0, 8), dtype=float32)]\n",
      "Total rewards for episode 2 is -98.49999997764826\n",
      "[array([[ 6.5435905, -1.1772   , 18.899244 , -1.       ,  8.216656 ,\n",
      "         8.329569 ,  9.538941 , 14.165699 ]], dtype=float32)]\n",
      "[array([[ 8.590408 , -2.1582   , 18.061144 , -1.       ,  7.8934383,\n",
      "         8.94482  ,  8.49738  , 18.34817  ]], dtype=float32)]\n",
      "[array([[ 7.0119443, -0.4566877, 15.206248 , 21.873432 ,  7.4233956,\n",
      "         9.60854  ,  7.650169 , 21.284592 ]], dtype=float32)]\n",
      "[array([[10.816595  ,  0.19091089, 16.528732  , 15.718408  ,  6.8629646 ,\n",
      "        10.638319  ,  6.597776  , 24.854979  ]], dtype=float32)]\n",
      "[array([[10.388367  ,  0.19959365, 16.807812  , 15.827917  ,  5.803361  ,\n",
      "        11.189601  ,  5.8571463 , 23.625626  ]], dtype=float32)]\n",
      "[array([[ 7.983942  ,  0.16097876, 18.110046  , -1.        ,  4.9116826 ,\n",
      "        11.275007  ,  5.5484576 , 19.84155   ]], dtype=float32)]\n",
      "[array([[ 5.290067  ,  0.21527126, 19.075256  , -1.        ,  4.412357  ,\n",
      "        11.341121  ,  5.674404  , 17.383919  ]], dtype=float32)]\n",
      "[array([[ 3.1510086 ,  0.20023009, 19.523119  , -1.        ,  4.2887197 ,\n",
      "        11.347112  ,  6.0913835 , 15.776032  ]], dtype=float32)]\n",
      "[array([[ 0.70492536,  0.21343674, 19.692234  , -1.        ,  4.4484096 ,\n",
      "        11.302844  ,  7.2704277 , 14.091252  ]], dtype=float32)]\n",
      "[array([[ 1.7031399 ,  0.29648453, 19.6672    , -1.        ,  4.6083674 ,\n",
      "        11.334512  ,  7.7926936 , 14.107458  ]], dtype=float32)]\n",
      "[array([[ 4.189002 ,  0.2504109, 19.427214 , -1.       ,  4.6111755,\n",
      "        11.559432 ,  6.881334 , 14.871549 ]], dtype=float32)]\n",
      "[array([[ 5.214657  ,  0.33104724, 19.07693   , -1.        ,  4.4297366 ,\n",
      "        11.485465  ,  6.597188  , 15.024894  ]], dtype=float32)]\n",
      "[array([[ 5.3684835 ,  0.30795604, 19.055174  , -1.        ,  4.925148  ,\n",
      "        11.415019  ,  7.165748  , 14.756347  ]], dtype=float32)]\n",
      "[array([[ 7.271471  ,  0.40159908, 18.343079  , -1.        ,  4.7455482 ,\n",
      "        11.273075  ,  6.4100366 , 16.88672   ]], dtype=float32)]\n",
      "[array([[ 8.685225 ,  0.4817239, 17.684563 , -1.       ,  4.368945 ,\n",
      "        11.432366 ,  6.2993226, 18.19012  ]], dtype=float32)]\n",
      "[array([[ 7.1313534 ,  0.41421586, 18.435867  , -1.        ,  4.5330496 ,\n",
      "        11.464333  ,  6.1604896 , 15.934029  ]], dtype=float32)]\n",
      "[array([[ 8.502983  ,  0.47189257, 17.899632  , -1.        ,  4.712639  ,\n",
      "        11.552016  ,  5.583248  , 18.507301  ]], dtype=float32)]\n",
      "[array([[ 8.824652  ,  0.49536172, 17.821747  , -1.        ,  4.749922  ,\n",
      "        11.960782  ,  5.770535  , 17.64415   ]], dtype=float32)]\n",
      "[array([[ 8.08881   ,  0.55297184, 17.915567  , -1.        ,  4.045305  ,\n",
      "        12.055868  ,  6.218784  , 17.417255  ]], dtype=float32)]\n",
      "[array([[ 7.56053   ,  0.46817696, 18.197865  , -1.        ,  4.250174  ,\n",
      "        12.101508  ,  5.833682  , 17.367018  ]], dtype=float32)]\n",
      "[array([[ 8.191509  ,  0.63064367, 17.785748  , -1.        ,  4.414703  ,\n",
      "        12.033439  ,  5.5839024 , 19.76029   ]], dtype=float32)]\n",
      "[array([[ 9.695302  ,  0.61173254, 17.175526  , -1.        ,  3.940541  ,\n",
      "        12.457387  ,  5.073553  , -1.        ]], dtype=float32)]\n",
      "[array([[11.5518675,  0.8052038, 16.262848 , -1.       ,  3.7412229,\n",
      "        13.158529 ,  4.397245 , -1.       ]], dtype=float32)]\n",
      "[array([[12.391931  ,  0.95790946, 15.113397  ,  8.6446905 ,  3.3631704 ,\n",
      "        13.951681  ,  3.7251532 , -1.        ]], dtype=float32)]\n",
      "[array([[12.28631  ,  0.8691178, 15.531889 ,  7.5723257,  2.834077 ,\n",
      "        14.645434 ,  3.259562 , -1.       ]], dtype=float32)]\n",
      "[array([[10.88147  ,  0.9762446, 16.279438 ,  7.525257 ,  2.4205623,\n",
      "        14.886526 ,  2.3615458, -1.       ]], dtype=float32)]\n",
      "[array([[ 9.278237 ,  1.0552973, 17.415903 ,  7.782913 ,  1.6309161,\n",
      "        15.106948 ,  1.9657367, -1.       ]], dtype=float32)]\n",
      "[array([], shape=(0, 8), dtype=float32)]\n",
      "Total rewards for episode 3 is -97.29999995976686\n",
      "[array([[ 4.4189396, -1.1772   , 19.505716 , -1.       ,  8.1433115,\n",
      "         8.101762 , 10.786186 , 11.806976 ]], dtype=float32)]\n",
      "[array([[ 2.1937175, -2.1582   , 19.879326 , -1.       ,  8.135608 ,\n",
      "         8.096587 , 12.349033 , 10.259201 ]], dtype=float32)]\n",
      "[array([[ 3.7514317, -3.1391995, 19.64502  , -1.       ,  8.160164 ,\n",
      "         7.922848 , -1.       , 11.408394 ]], dtype=float32)]\n",
      "[array([[ 1.8568318,  0.0222141, 19.785954 , -1.       ,  8.213398 ,\n",
      "         7.9022307, 13.384026 ,  9.843522 ]], dtype=float32)]\n",
      "[array([[ 2.0152197 ,  0.07521458, 19.705667  , -1.        ,  8.322391  ,\n",
      "         7.633135  , 12.7533455 , 10.561738  ]], dtype=float32)]\n",
      "[array([[ 2.0797524 ,  0.08246212, 19.649162  , -1.        ,  8.37112   ,\n",
      "         7.462378  , 13.290588  , 10.265756  ]], dtype=float32)]\n",
      "[array([[ 0.7719487 ,  0.15181705, 19.725311  , -1.        ,  8.575428  ,\n",
      "         7.2911687 , 15.1214905 ,  9.3560705 ]], dtype=float32)]\n",
      "[array([[-0.7634118 ,  0.17526038, 19.698126  , 21.469076  ,  8.995132  ,\n",
      "         6.9981713 , 23.40092   ,  8.427635  ]], dtype=float32)]\n",
      "[array([[-1.26451   ,  0.11943339, 19.721964  , 18.92395   ,  9.432648  ,\n",
      "         6.554213  , -1.        ,  8.182201  ]], dtype=float32)]\n",
      "[array([[ 1.3537966 ,  0.17301765, 19.76621   , -1.        ,  9.515448  ,\n",
      "         6.394529  , 18.634989  ,  8.364164  ]], dtype=float32)]\n",
      "[array([[ 1.9854856 ,  0.24825989, 19.48246   , -1.        ,  9.60647   ,\n",
      "         6.200629  , -1.        ,  7.819341  ]], dtype=float32)]\n",
      "[array([[ 2.1425142 ,  0.11617413, 19.732988  , -1.        , 10.410799  ,\n",
      "         6.254649  , -1.        ,  7.24837   ]], dtype=float32)]\n",
      "[array([[ 2.5663896 ,  0.19867231, 19.586414  , 24.332047  , 10.523546  ,\n",
      "         5.9034257 , -1.        ,  6.7776365 ]], dtype=float32)]\n",
      "[array([[ 1.8846459 ,  0.17638326, 19.546677  , 19.452732  , 11.33197   ,\n",
      "         5.492218  , -1.        ,  6.0198097 ]], dtype=float32)]\n",
      "[array([[ 0.9804894 ,  0.13927819, 19.66441   , 14.618287  , 11.849934  ,\n",
      "         4.9539037 , -1.        ,  5.2149673 ]], dtype=float32)]\n",
      "[array([[-1.6539077 , -0.09328078, 19.766035  ,  8.896557  , 13.446959  ,\n",
      "         4.44243   , -1.        ,  4.108997  ]], dtype=float32)]\n",
      "[array([[-2.6753325 ,  0.05994073, 19.422897  ,  6.552059  , 16.343386  ,\n",
      "         3.428661  , -1.        ,  3.099593  ]], dtype=float32)]\n",
      "[array([[ 0.       ,  0.       ,  0.       , -1.       ,  8.331722 ,\n",
      "         8.043173 , 11.0713005, 11.566806 ]], dtype=float32)]\n",
      "Total rewards for episode 4 is -98.19999997317791\n",
      "[array([[ 6.1855197, -1.1772   , 19.019447 , -1.       ,  8.192657 ,\n",
      "         8.278971 ,  9.769092 , 13.683969 ]], dtype=float32)]\n",
      "[array([[ 9.063922 , -2.1582   , 17.828217 , 24.13609  ,  8.023926 ,\n",
      "         9.03041  ,  8.3561125, 20.34597  ]], dtype=float32)]\n",
      "[array([[ 5.8161106 , -0.51220727, 15.768448  , -1.        ,  7.207019  ,\n",
      "         9.267063  ,  8.196238  , 17.204409  ]], dtype=float32)]\n",
      "[array([[ 7.2243176 ,  0.15191863, 18.392265  , -1.        ,  6.686549  ,\n",
      "         9.590523  ,  7.7468944 , 17.72627   ]], dtype=float32)]\n",
      "[array([[ 6.912602  ,  0.15859501, 18.510416  , -1.        ,  6.28628   ,\n",
      "         9.895684  ,  7.312353  , 17.684757  ]], dtype=float32)]\n",
      "[array([[ 5.721835  ,  0.15572998, 18.915617  , -1.        ,  5.865628  ,\n",
      "        10.054054  ,  7.277525  , 16.420404  ]], dtype=float32)]\n",
      "[array([[ 5.3805776 ,  0.26807535, 19.039152  , -1.        ,  5.576855  ,\n",
      "        10.205339  ,  6.974079  , 16.281574  ]], dtype=float32)]\n",
      "[array([[ 4.9860296 ,  0.27939737, 19.05422   , -1.        ,  5.3334746 ,\n",
      "        10.797489  ,  6.8000045 , 15.731498  ]], dtype=float32)]\n",
      "[array([[ 6.2801437 ,  0.27422753, 18.773615  , -1.        ,  5.132894  ,\n",
      "        11.066054  ,  6.044867  , 16.76506   ]], dtype=float32)]\n",
      "[array([[ 6.2312813,  0.3550275, 18.653414 , -1.       ,  4.7504654,\n",
      "        11.701298 ,  5.6942134, 16.342033 ]], dtype=float32)]\n",
      "[array([[ 4.6017895 ,  0.27745038, 19.198984  , -1.        ,  4.4352226 ,\n",
      "        11.701386  ,  6.9113617 , 14.750764  ]], dtype=float32)]\n",
      "[array([[ 5.4193964,  0.3373133, 18.919264 , -1.       ,  4.2866406,\n",
      "        11.606116 ,  6.287239 , 15.449829 ]], dtype=float32)]\n",
      "[array([[ 8.231768  ,  0.41743934, 17.884293  , -1.        ,  4.360599  ,\n",
      "        11.6881    ,  5.237902  , 18.743     ]], dtype=float32)]\n",
      "[array([[ 9.291831  ,  0.46023706, 17.51689   , -1.        ,  4.2024097 ,\n",
      "        11.924172  ,  5.1806574 , 19.40497   ]], dtype=float32)]\n",
      "[array([[10.464102  ,  0.50988925, 16.835405  , -1.        ,  3.6733499 ,\n",
      "        12.378871  ,  4.547994  , 22.437183  ]], dtype=float32)]\n",
      "[array([[12.718422 ,  0.5948523, 15.183006 , 10.889329 ,  3.7443619,\n",
      "        13.752058 ,  3.9659567, -1.       ]], dtype=float32)]\n",
      "[array([[12.167264 ,  0.601972 , 15.725735 , 10.764351 ,  3.0284421,\n",
      "        13.989965 ,  3.6229231, -1.       ]], dtype=float32)]\n",
      "[array([[12.409049 ,  0.63153  , 15.525668 ,  7.3623543,  2.7663622,\n",
      "        14.732478 ,  2.210966 , -1.       ]], dtype=float32)]\n",
      "[array([[11.001903 ,  0.8859364, 15.964985 ,  8.732495 ,  1.5539855,\n",
      "        14.909464 ,  2.0092304, -1.       ]], dtype=float32)]\n",
      "[array([], shape=(0, 8), dtype=float32)]\n",
      "Total rewards for episode 5 is -98.0999999716878\n",
      "[array([[ 2.2261975, -1.1772   , 19.875715 , -1.       ,  8.291966 ,\n",
      "         8.031039 , 12.550964 , 10.242645 ]], dtype=float32)]\n",
      "[array([[-0.08386888, -2.1582    , 19.999825  , -1.        ,  8.607876  ,\n",
      "         7.8719087 , 14.805816  ,  9.077462  ]], dtype=float32)]\n",
      "[array([[-0.88913316, -3.1391995 , 19.980227  , -1.        ,  9.060913  ,\n",
      "         7.4439683 , 16.865744  ,  8.413584  ]], dtype=float32)]\n",
      "[array([[ 0.79169166,  0.05332528, 19.77777   , -1.        ,  9.204927  ,\n",
      "         6.9096465 , 14.8069    ,  8.603743  ]], dtype=float32)]\n",
      "[array([[ 1.2579337 ,  0.06319351, 19.74578   , -1.        ,  9.377001  ,\n",
      "         6.641909  , 15.378423  ,  8.279245  ]], dtype=float32)]\n",
      "[array([[ 2.4692538 ,  0.06205741, 19.630573  , -1.        ,  9.452705  ,\n",
      "         6.390408  , 14.255139  ,  9.188111  ]], dtype=float32)]\n",
      "[array([[ 4.3420615 ,  0.20579231, 19.254343  , -1.        ,  9.3949995 ,\n",
      "         6.354143  , 12.874437  , 10.657917  ]], dtype=float32)]\n",
      "[array([[ 3.2581341 ,  0.20214634, 19.432547  , -1.        ,  9.239604  ,\n",
      "         6.364235  , 14.134066  ,  9.649808  ]], dtype=float32)]\n",
      "[array([[ 3.6067362 ,  0.21549024, 19.420336  , -1.        ,  9.216954  ,\n",
      "         6.767105  , 13.564212  ,  9.701075  ]], dtype=float32)]\n",
      "[array([[ 1.8835839 ,  0.18395945, 19.681908  , -1.        ,  9.2386    ,\n",
      "         6.710517  , 19.491549  ,  8.528472  ]], dtype=float32)]\n",
      "[array([[ 3.385818  ,  0.28191674, 19.282478  , -1.        ,  9.281374  ,\n",
      "         6.85811   , 15.962994  ,  8.731861  ]], dtype=float32)]\n",
      "[array([[ 5.7126684 ,  0.21223746, 18.997732  , -1.        ,  9.206638  ,\n",
      "         6.7693853 , 14.140764  ,  9.215736  ]], dtype=float32)]\n",
      "[array([[ 8.277409  ,  0.38205105, 17.91148   , -1.        ,  9.113248  ,\n",
      "         6.892637  , 11.689633  , 10.808698  ]], dtype=float32)]\n",
      "[array([[ 6.3131566 ,  0.33941323, 18.549496  , -1.        ,  9.072345  ,\n",
      "         6.9256053 , 13.697614  ,  9.152413  ]], dtype=float32)]\n",
      "[array([[ 7.9664164 ,  0.39485052, 18.048328  , -1.        ,  9.004659  ,\n",
      "         6.8941274 , 11.7094965 , 10.966153  ]], dtype=float32)]\n",
      "[array([[ 8.953069 ,  0.4720598, 17.542221 , -1.       ,  9.179614 ,\n",
      "         7.0849786, 11.425126 , 11.677575 ]], dtype=float32)]\n",
      "[array([[10.717969,  0.614869, 16.399672, -1.      ,  8.991166,  7.563097,\n",
      "        10.100606, 14.468757]], dtype=float32)]\n",
      "[array([[11.313738 ,  0.5834753, 16.12207  , -1.       ,  8.614156 ,\n",
      "         8.300824 ,  9.784868 , 15.688626 ]], dtype=float32)]\n",
      "[array([[13.149241  ,  0.74373657, 14.679469  , -1.        ,  8.527238  ,\n",
      "         9.333994  ,  8.472627  , -1.        ]], dtype=float32)]\n",
      "[array([[12.244635 ,  0.6269486, 15.5082   , -1.       ,  7.004313 ,\n",
      "         9.647876 ,  7.9849195, 20.544737 ]], dtype=float32)]\n",
      "[array([[ 9.644667 ,  0.5716459, 17.20641  , -1.       ,  6.782825 ,\n",
      "         9.738092 ,  8.720846 , 15.579733 ]], dtype=float32)]\n",
      "[array([[ 7.055899 ,  0.4514693, 18.491941 , -1.       ,  6.4967346,\n",
      "         9.611348 , -1.       , 13.205257 ]], dtype=float32)]\n",
      "[array([[ 6.6005917 ,  0.43040794, 18.686668  , -1.        ,  6.69668   ,\n",
      "         9.596403  , -1.        , 13.605581  ]], dtype=float32)]\n",
      "[array([[ 7.8644934 ,  0.56783086, 18.070795  , -1.        ,  6.797091  ,\n",
      "         9.69385   ,  9.654287  , 16.269152  ]], dtype=float32)]\n",
      "[array([[ 9.8267  ,  0.686224, 17.214735, -1.      ,  6.776525,  9.636477,\n",
      "         8.651619, -1.      ]], dtype=float32)]\n",
      "[array([[ 8.819981 ,  0.7131545, 17.676413 , -1.       ,  6.614349 ,\n",
      "         9.949417 , -1.       , 21.945257 ]], dtype=float32)]\n",
      "[array([[ 8.499594 ,  0.7623334, 17.878721 , -1.       ,  6.1295342,\n",
      "        10.431246 , -1.       , 24.579123 ]], dtype=float32)]\n",
      "[array([[ 6.132723  ,  0.60726726, 18.750572  , -1.        ,  5.899978  ,\n",
      "        10.500182  , -1.        , 18.561897  ]], dtype=float32)]\n",
      "[array([[ 7.0665283,  1.0485008, 18.067192 , -1.       ,  5.883304 ,\n",
      "        10.94125  , -1.       , -1.       ]], dtype=float32)]\n",
      "[array([[ 7.04058  ,  1.1218865, 18.425667 , -1.       ,  5.6843777,\n",
      "        11.215699 , -1.       , -1.       ]], dtype=float32)]\n",
      "[array([[ 7.8776207,  1.2800493, 18.00024  , -1.       ,  5.3890114,\n",
      "        12.054741 ,  5.7590847, -1.       ]], dtype=float32)]\n"
     ]
    },
    {
     "ename": "KeyboardInterrupt",
     "evalue": "",
     "output_type": "error",
     "traceback": [
      "\u001b[1;31m---------------------------------------------------------------------------\u001b[0m",
      "\u001b[1;31mKeyboardInterrupt\u001b[0m                         Traceback (most recent call last)",
      "\u001b[1;32m~\\AppData\\Local\\Temp/ipykernel_4284/2994474718.py\u001b[0m in \u001b[0;36m<module>\u001b[1;34m\u001b[0m\n\u001b[0;32m     17\u001b[0m         \u001b[0menv\u001b[0m\u001b[1;33m.\u001b[0m\u001b[0mset_actions\u001b[0m\u001b[1;33m(\u001b[0m\u001b[0mbehavior_name\u001b[0m\u001b[1;33m,\u001b[0m \u001b[0maction\u001b[0m\u001b[1;33m)\u001b[0m\u001b[1;33m\u001b[0m\u001b[1;33m\u001b[0m\u001b[0m\n\u001b[0;32m     18\u001b[0m         \u001b[1;31m# Move the simulation forward\u001b[0m\u001b[1;33m\u001b[0m\u001b[1;33m\u001b[0m\u001b[0m\n\u001b[1;32m---> 19\u001b[1;33m         \u001b[0menv\u001b[0m\u001b[1;33m.\u001b[0m\u001b[0mstep\u001b[0m\u001b[1;33m(\u001b[0m\u001b[1;33m)\u001b[0m\u001b[1;33m\u001b[0m\u001b[1;33m\u001b[0m\u001b[0m\n\u001b[0m\u001b[0;32m     20\u001b[0m         \u001b[1;31m# Get the new simulation results\u001b[0m\u001b[1;33m\u001b[0m\u001b[1;33m\u001b[0m\u001b[0m\n\u001b[0;32m     21\u001b[0m         \u001b[0mdecision_steps\u001b[0m\u001b[1;33m,\u001b[0m \u001b[0mterminal_steps\u001b[0m \u001b[1;33m=\u001b[0m \u001b[0menv\u001b[0m\u001b[1;33m.\u001b[0m\u001b[0mget_steps\u001b[0m\u001b[1;33m(\u001b[0m\u001b[0mbehavior_name\u001b[0m\u001b[1;33m)\u001b[0m\u001b[1;33m\u001b[0m\u001b[1;33m\u001b[0m\u001b[0m\n",
      "\u001b[1;32m~\\AppData\\Local\\Packages\\PythonSoftwareFoundation.Python.3.9_qbz5n2kfra8p0\\LocalCache\\local-packages\\Python39\\site-packages\\mlagents_envs\\timers.py\u001b[0m in \u001b[0;36mwrapped\u001b[1;34m(*args, **kwargs)\u001b[0m\n\u001b[0;32m    303\u001b[0m     \u001b[1;32mdef\u001b[0m \u001b[0mwrapped\u001b[0m\u001b[1;33m(\u001b[0m\u001b[1;33m*\u001b[0m\u001b[0margs\u001b[0m\u001b[1;33m,\u001b[0m \u001b[1;33m**\u001b[0m\u001b[0mkwargs\u001b[0m\u001b[1;33m)\u001b[0m\u001b[1;33m:\u001b[0m\u001b[1;33m\u001b[0m\u001b[1;33m\u001b[0m\u001b[0m\n\u001b[0;32m    304\u001b[0m         \u001b[1;32mwith\u001b[0m \u001b[0mhierarchical_timer\u001b[0m\u001b[1;33m(\u001b[0m\u001b[0mfunc\u001b[0m\u001b[1;33m.\u001b[0m\u001b[0m__qualname__\u001b[0m\u001b[1;33m)\u001b[0m\u001b[1;33m:\u001b[0m\u001b[1;33m\u001b[0m\u001b[1;33m\u001b[0m\u001b[0m\n\u001b[1;32m--> 305\u001b[1;33m             \u001b[1;32mreturn\u001b[0m \u001b[0mfunc\u001b[0m\u001b[1;33m(\u001b[0m\u001b[1;33m*\u001b[0m\u001b[0margs\u001b[0m\u001b[1;33m,\u001b[0m \u001b[1;33m**\u001b[0m\u001b[0mkwargs\u001b[0m\u001b[1;33m)\u001b[0m\u001b[1;33m\u001b[0m\u001b[1;33m\u001b[0m\u001b[0m\n\u001b[0m\u001b[0;32m    306\u001b[0m \u001b[1;33m\u001b[0m\u001b[0m\n\u001b[0;32m    307\u001b[0m     \u001b[1;32mreturn\u001b[0m \u001b[0mwrapped\u001b[0m  \u001b[1;31m# type: ignore\u001b[0m\u001b[1;33m\u001b[0m\u001b[1;33m\u001b[0m\u001b[0m\n",
      "\u001b[1;32m~\\AppData\\Local\\Packages\\PythonSoftwareFoundation.Python.3.9_qbz5n2kfra8p0\\LocalCache\\local-packages\\Python39\\site-packages\\mlagents_envs\\environment.py\u001b[0m in \u001b[0;36mstep\u001b[1;34m(self)\u001b[0m\n\u001b[0;32m    331\u001b[0m         \u001b[0mstep_input\u001b[0m \u001b[1;33m=\u001b[0m \u001b[0mself\u001b[0m\u001b[1;33m.\u001b[0m\u001b[0m_generate_step_input\u001b[0m\u001b[1;33m(\u001b[0m\u001b[0mself\u001b[0m\u001b[1;33m.\u001b[0m\u001b[0m_env_actions\u001b[0m\u001b[1;33m)\u001b[0m\u001b[1;33m\u001b[0m\u001b[1;33m\u001b[0m\u001b[0m\n\u001b[0;32m    332\u001b[0m         \u001b[1;32mwith\u001b[0m \u001b[0mhierarchical_timer\u001b[0m\u001b[1;33m(\u001b[0m\u001b[1;34m\"communicator.exchange\"\u001b[0m\u001b[1;33m)\u001b[0m\u001b[1;33m:\u001b[0m\u001b[1;33m\u001b[0m\u001b[1;33m\u001b[0m\u001b[0m\n\u001b[1;32m--> 333\u001b[1;33m             \u001b[0moutputs\u001b[0m \u001b[1;33m=\u001b[0m \u001b[0mself\u001b[0m\u001b[1;33m.\u001b[0m\u001b[0m_communicator\u001b[0m\u001b[1;33m.\u001b[0m\u001b[0mexchange\u001b[0m\u001b[1;33m(\u001b[0m\u001b[0mstep_input\u001b[0m\u001b[1;33m,\u001b[0m \u001b[0mself\u001b[0m\u001b[1;33m.\u001b[0m\u001b[0m_poll_process\u001b[0m\u001b[1;33m)\u001b[0m\u001b[1;33m\u001b[0m\u001b[1;33m\u001b[0m\u001b[0m\n\u001b[0m\u001b[0;32m    334\u001b[0m         \u001b[1;32mif\u001b[0m \u001b[0moutputs\u001b[0m \u001b[1;32mis\u001b[0m \u001b[1;32mNone\u001b[0m\u001b[1;33m:\u001b[0m\u001b[1;33m\u001b[0m\u001b[1;33m\u001b[0m\u001b[0m\n\u001b[0;32m    335\u001b[0m             \u001b[1;32mraise\u001b[0m \u001b[0mUnityCommunicatorStoppedException\u001b[0m\u001b[1;33m(\u001b[0m\u001b[1;34m\"Communicator has exited.\"\u001b[0m\u001b[1;33m)\u001b[0m\u001b[1;33m\u001b[0m\u001b[1;33m\u001b[0m\u001b[0m\n",
      "\u001b[1;32m~\\AppData\\Local\\Packages\\PythonSoftwareFoundation.Python.3.9_qbz5n2kfra8p0\\LocalCache\\local-packages\\Python39\\site-packages\\mlagents_envs\\rpc_communicator.py\u001b[0m in \u001b[0;36mexchange\u001b[1;34m(self, inputs, poll_callback)\u001b[0m\n\u001b[0;32m    135\u001b[0m         \u001b[0mmessage\u001b[0m\u001b[1;33m.\u001b[0m\u001b[0munity_input\u001b[0m\u001b[1;33m.\u001b[0m\u001b[0mCopyFrom\u001b[0m\u001b[1;33m(\u001b[0m\u001b[0minputs\u001b[0m\u001b[1;33m)\u001b[0m\u001b[1;33m\u001b[0m\u001b[1;33m\u001b[0m\u001b[0m\n\u001b[0;32m    136\u001b[0m         \u001b[0mself\u001b[0m\u001b[1;33m.\u001b[0m\u001b[0munity_to_external\u001b[0m\u001b[1;33m.\u001b[0m\u001b[0mparent_conn\u001b[0m\u001b[1;33m.\u001b[0m\u001b[0msend\u001b[0m\u001b[1;33m(\u001b[0m\u001b[0mmessage\u001b[0m\u001b[1;33m)\u001b[0m\u001b[1;33m\u001b[0m\u001b[1;33m\u001b[0m\u001b[0m\n\u001b[1;32m--> 137\u001b[1;33m         \u001b[0mself\u001b[0m\u001b[1;33m.\u001b[0m\u001b[0mpoll_for_timeout\u001b[0m\u001b[1;33m(\u001b[0m\u001b[0mpoll_callback\u001b[0m\u001b[1;33m)\u001b[0m\u001b[1;33m\u001b[0m\u001b[1;33m\u001b[0m\u001b[0m\n\u001b[0m\u001b[0;32m    138\u001b[0m         \u001b[0moutput\u001b[0m \u001b[1;33m=\u001b[0m \u001b[0mself\u001b[0m\u001b[1;33m.\u001b[0m\u001b[0munity_to_external\u001b[0m\u001b[1;33m.\u001b[0m\u001b[0mparent_conn\u001b[0m\u001b[1;33m.\u001b[0m\u001b[0mrecv\u001b[0m\u001b[1;33m(\u001b[0m\u001b[1;33m)\u001b[0m\u001b[1;33m\u001b[0m\u001b[1;33m\u001b[0m\u001b[0m\n\u001b[0;32m    139\u001b[0m         \u001b[1;32mif\u001b[0m \u001b[0moutput\u001b[0m\u001b[1;33m.\u001b[0m\u001b[0mheader\u001b[0m\u001b[1;33m.\u001b[0m\u001b[0mstatus\u001b[0m \u001b[1;33m!=\u001b[0m \u001b[1;36m200\u001b[0m\u001b[1;33m:\u001b[0m\u001b[1;33m\u001b[0m\u001b[1;33m\u001b[0m\u001b[0m\n",
      "\u001b[1;32m~\\AppData\\Local\\Packages\\PythonSoftwareFoundation.Python.3.9_qbz5n2kfra8p0\\LocalCache\\local-packages\\Python39\\site-packages\\mlagents_envs\\rpc_communicator.py\u001b[0m in \u001b[0;36mpoll_for_timeout\u001b[1;34m(self, poll_callback)\u001b[0m\n\u001b[0;32m    101\u001b[0m         \u001b[0mcallback_timeout_wait\u001b[0m \u001b[1;33m=\u001b[0m \u001b[0mself\u001b[0m\u001b[1;33m.\u001b[0m\u001b[0mtimeout_wait\u001b[0m \u001b[1;33m//\u001b[0m \u001b[1;36m10\u001b[0m\u001b[1;33m\u001b[0m\u001b[1;33m\u001b[0m\u001b[0m\n\u001b[0;32m    102\u001b[0m         \u001b[1;32mwhile\u001b[0m \u001b[0mtime\u001b[0m\u001b[1;33m.\u001b[0m\u001b[0mmonotonic\u001b[0m\u001b[1;33m(\u001b[0m\u001b[1;33m)\u001b[0m \u001b[1;33m<\u001b[0m \u001b[0mdeadline\u001b[0m\u001b[1;33m:\u001b[0m\u001b[1;33m\u001b[0m\u001b[1;33m\u001b[0m\u001b[0m\n\u001b[1;32m--> 103\u001b[1;33m             \u001b[1;32mif\u001b[0m \u001b[0mself\u001b[0m\u001b[1;33m.\u001b[0m\u001b[0munity_to_external\u001b[0m\u001b[1;33m.\u001b[0m\u001b[0mparent_conn\u001b[0m\u001b[1;33m.\u001b[0m\u001b[0mpoll\u001b[0m\u001b[1;33m(\u001b[0m\u001b[0mcallback_timeout_wait\u001b[0m\u001b[1;33m)\u001b[0m\u001b[1;33m:\u001b[0m\u001b[1;33m\u001b[0m\u001b[1;33m\u001b[0m\u001b[0m\n\u001b[0m\u001b[0;32m    104\u001b[0m                 \u001b[1;31m# Got an acknowledgment from the connection\u001b[0m\u001b[1;33m\u001b[0m\u001b[1;33m\u001b[0m\u001b[0m\n\u001b[0;32m    105\u001b[0m                 \u001b[1;32mreturn\u001b[0m\u001b[1;33m\u001b[0m\u001b[1;33m\u001b[0m\u001b[0m\n",
      "\u001b[1;32mC:\\Program Files\\WindowsApps\\PythonSoftwareFoundation.Python.3.9_3.9.2032.0_x64__qbz5n2kfra8p0\\lib\\multiprocessing\\connection.py\u001b[0m in \u001b[0;36mpoll\u001b[1;34m(self, timeout)\u001b[0m\n\u001b[0;32m    260\u001b[0m         \u001b[0mself\u001b[0m\u001b[1;33m.\u001b[0m\u001b[0m_check_closed\u001b[0m\u001b[1;33m(\u001b[0m\u001b[1;33m)\u001b[0m\u001b[1;33m\u001b[0m\u001b[1;33m\u001b[0m\u001b[0m\n\u001b[0;32m    261\u001b[0m         \u001b[0mself\u001b[0m\u001b[1;33m.\u001b[0m\u001b[0m_check_readable\u001b[0m\u001b[1;33m(\u001b[0m\u001b[1;33m)\u001b[0m\u001b[1;33m\u001b[0m\u001b[1;33m\u001b[0m\u001b[0m\n\u001b[1;32m--> 262\u001b[1;33m         \u001b[1;32mreturn\u001b[0m \u001b[0mself\u001b[0m\u001b[1;33m.\u001b[0m\u001b[0m_poll\u001b[0m\u001b[1;33m(\u001b[0m\u001b[0mtimeout\u001b[0m\u001b[1;33m)\u001b[0m\u001b[1;33m\u001b[0m\u001b[1;33m\u001b[0m\u001b[0m\n\u001b[0m\u001b[0;32m    263\u001b[0m \u001b[1;33m\u001b[0m\u001b[0m\n\u001b[0;32m    264\u001b[0m     \u001b[1;32mdef\u001b[0m \u001b[0m__enter__\u001b[0m\u001b[1;33m(\u001b[0m\u001b[0mself\u001b[0m\u001b[1;33m)\u001b[0m\u001b[1;33m:\u001b[0m\u001b[1;33m\u001b[0m\u001b[1;33m\u001b[0m\u001b[0m\n",
      "\u001b[1;32mC:\\Program Files\\WindowsApps\\PythonSoftwareFoundation.Python.3.9_3.9.2032.0_x64__qbz5n2kfra8p0\\lib\\multiprocessing\\connection.py\u001b[0m in \u001b[0;36m_poll\u001b[1;34m(self, timeout)\u001b[0m\n\u001b[0;32m    333\u001b[0m                         _winapi.PeekNamedPipe(self._handle)[0] != 0):\n\u001b[0;32m    334\u001b[0m                 \u001b[1;32mreturn\u001b[0m \u001b[1;32mTrue\u001b[0m\u001b[1;33m\u001b[0m\u001b[1;33m\u001b[0m\u001b[0m\n\u001b[1;32m--> 335\u001b[1;33m             \u001b[1;32mreturn\u001b[0m \u001b[0mbool\u001b[0m\u001b[1;33m(\u001b[0m\u001b[0mwait\u001b[0m\u001b[1;33m(\u001b[0m\u001b[1;33m[\u001b[0m\u001b[0mself\u001b[0m\u001b[1;33m]\u001b[0m\u001b[1;33m,\u001b[0m \u001b[0mtimeout\u001b[0m\u001b[1;33m)\u001b[0m\u001b[1;33m)\u001b[0m\u001b[1;33m\u001b[0m\u001b[1;33m\u001b[0m\u001b[0m\n\u001b[0m\u001b[0;32m    336\u001b[0m \u001b[1;33m\u001b[0m\u001b[0m\n\u001b[0;32m    337\u001b[0m         \u001b[1;32mdef\u001b[0m \u001b[0m_get_more_data\u001b[0m\u001b[1;33m(\u001b[0m\u001b[0mself\u001b[0m\u001b[1;33m,\u001b[0m \u001b[0mov\u001b[0m\u001b[1;33m,\u001b[0m \u001b[0mmaxsize\u001b[0m\u001b[1;33m)\u001b[0m\u001b[1;33m:\u001b[0m\u001b[1;33m\u001b[0m\u001b[1;33m\u001b[0m\u001b[0m\n",
      "\u001b[1;32mC:\\Program Files\\WindowsApps\\PythonSoftwareFoundation.Python.3.9_3.9.2032.0_x64__qbz5n2kfra8p0\\lib\\multiprocessing\\connection.py\u001b[0m in \u001b[0;36mwait\u001b[1;34m(object_list, timeout)\u001b[0m\n\u001b[0;32m    882\u001b[0m                         \u001b[0mtimeout\u001b[0m \u001b[1;33m=\u001b[0m \u001b[1;36m0\u001b[0m\u001b[1;33m\u001b[0m\u001b[1;33m\u001b[0m\u001b[0m\n\u001b[0;32m    883\u001b[0m \u001b[1;33m\u001b[0m\u001b[0m\n\u001b[1;32m--> 884\u001b[1;33m             \u001b[0mready_handles\u001b[0m \u001b[1;33m=\u001b[0m \u001b[0m_exhaustive_wait\u001b[0m\u001b[1;33m(\u001b[0m\u001b[0mwaithandle_to_obj\u001b[0m\u001b[1;33m.\u001b[0m\u001b[0mkeys\u001b[0m\u001b[1;33m(\u001b[0m\u001b[1;33m)\u001b[0m\u001b[1;33m,\u001b[0m \u001b[0mtimeout\u001b[0m\u001b[1;33m)\u001b[0m\u001b[1;33m\u001b[0m\u001b[1;33m\u001b[0m\u001b[0m\n\u001b[0m\u001b[0;32m    885\u001b[0m         \u001b[1;32mfinally\u001b[0m\u001b[1;33m:\u001b[0m\u001b[1;33m\u001b[0m\u001b[1;33m\u001b[0m\u001b[0m\n\u001b[0;32m    886\u001b[0m             \u001b[1;31m# request that overlapped reads stop\u001b[0m\u001b[1;33m\u001b[0m\u001b[1;33m\u001b[0m\u001b[0m\n",
      "\u001b[1;32mC:\\Program Files\\WindowsApps\\PythonSoftwareFoundation.Python.3.9_3.9.2032.0_x64__qbz5n2kfra8p0\\lib\\multiprocessing\\connection.py\u001b[0m in \u001b[0;36m_exhaustive_wait\u001b[1;34m(handles, timeout)\u001b[0m\n\u001b[0;32m    814\u001b[0m         \u001b[0mready\u001b[0m \u001b[1;33m=\u001b[0m \u001b[1;33m[\u001b[0m\u001b[1;33m]\u001b[0m\u001b[1;33m\u001b[0m\u001b[1;33m\u001b[0m\u001b[0m\n\u001b[0;32m    815\u001b[0m         \u001b[1;32mwhile\u001b[0m \u001b[0mL\u001b[0m\u001b[1;33m:\u001b[0m\u001b[1;33m\u001b[0m\u001b[1;33m\u001b[0m\u001b[0m\n\u001b[1;32m--> 816\u001b[1;33m             \u001b[0mres\u001b[0m \u001b[1;33m=\u001b[0m \u001b[0m_winapi\u001b[0m\u001b[1;33m.\u001b[0m\u001b[0mWaitForMultipleObjects\u001b[0m\u001b[1;33m(\u001b[0m\u001b[0mL\u001b[0m\u001b[1;33m,\u001b[0m \u001b[1;32mFalse\u001b[0m\u001b[1;33m,\u001b[0m \u001b[0mtimeout\u001b[0m\u001b[1;33m)\u001b[0m\u001b[1;33m\u001b[0m\u001b[1;33m\u001b[0m\u001b[0m\n\u001b[0m\u001b[0;32m    817\u001b[0m             \u001b[1;32mif\u001b[0m \u001b[0mres\u001b[0m \u001b[1;33m==\u001b[0m \u001b[0mWAIT_TIMEOUT\u001b[0m\u001b[1;33m:\u001b[0m\u001b[1;33m\u001b[0m\u001b[1;33m\u001b[0m\u001b[0m\n\u001b[0;32m    818\u001b[0m                 \u001b[1;32mbreak\u001b[0m\u001b[1;33m\u001b[0m\u001b[1;33m\u001b[0m\u001b[0m\n",
      "\u001b[1;31mKeyboardInterrupt\u001b[0m: "
     ]
    }
   ],
   "source": [
    "for episode in range(30):\n",
    "    env.reset()\n",
    "    decision_steps, terminal_steps = env.get_steps(behavior_name)\n",
    "    tracked_agent = -1 # -1 indicates not yet tracking\n",
    "    done = False # For the tracked_agent\n",
    "    episode_rewards = 0 # For the tracked_agent\n",
    "    while not done:\n",
    "        # Track the first agent we see if not tracking\n",
    "        # Note : len(decision_steps) = [number of agents that requested a decision]\n",
    "        if tracked_agent == -1 and len(decision_steps) >= 1:\n",
    "            tracked_agent = decision_steps.agent_id[0]\n",
    "        # Generate an action for all agents\n",
    "        action = spec.action_spec.random_action(len(decision_steps))\n",
    "        #action = spec.action_spec.empty_action(len(decision_steps))\n",
    "        #action.add_continuous(np.array([[-0.5]]))\n",
    "        # Set the actions\n",
    "        env.set_actions(behavior_name, action)\n",
    "        # Move the simulation forward\n",
    "        env.step()\n",
    "        # Get the new simulation results\n",
    "        decision_steps, terminal_steps = env.get_steps(behavior_name)\n",
    "        print(decision_steps.obs)\n",
    "        if tracked_agent in decision_steps: # The agent requested a decision\n",
    "            episode_rewards += decision_steps[tracked_agent].reward\n",
    "#             print(decision_steps[tracked_agent].reward)\n",
    "        if tracked_agent in terminal_steps: # The agent terminated its episode\n",
    "            episode_rewards += terminal_steps[tracked_agent].reward\n",
    "#             print(terminal_steps[tracked_agent].reward)\n",
    "            done = True\n",
    "    print(f\"Total rewards for episode {episode} is {episode_rewards}\")"
   ]
  },
  {
   "cell_type": "code",
   "execution_count": null,
   "metadata": {},
   "outputs": [],
   "source": [
    "env.close()"
   ]
  }
 ],
 "metadata": {
  "interpreter": {
   "hash": "fe44fef87f92f48a3a32707d0df204585f471652bc0ce87358a3ce712bc24db0"
  },
  "kernelspec": {
   "display_name": "Python 3.9.7 64-bit",
   "name": "python3"
  },
  "language_info": {
   "codemirror_mode": {
    "name": "ipython",
    "version": 3
   },
   "file_extension": ".py",
   "mimetype": "text/x-python",
   "name": "python",
   "nbconvert_exporter": "python",
   "pygments_lexer": "ipython3",
   "version": "3.9.7"
  },
  "orig_nbformat": 4
 },
 "nbformat": 4,
 "nbformat_minor": 2
}
